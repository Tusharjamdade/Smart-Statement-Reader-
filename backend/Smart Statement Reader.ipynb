{
 "cells": [
  {
   "cell_type": "markdown",
   "id": "d6aa9a5d-2224-40bb-8b8b-2ba8d48ab4d8",
   "metadata": {},
   "source": [
    "# **Smart Statement Reader**\n",
    "\n",
    "> **An AI/ML-powered solution for processing financial PDFs with precision and efficiency.**  "
   ]
  },
  {
   "cell_type": "markdown",
   "id": "9bf59751-67cb-41e1-af73-157e4aa066f2",
   "metadata": {},
   "source": [
    "#### Detect PDF Type (Structured vs. Scanned)"
   ]
  },
  {
   "cell_type": "code",
   "execution_count": 1,
   "id": "cca44930-f297-4529-ba60-7fe8a77a1dfe",
   "metadata": {},
   "outputs": [],
   "source": [
    "import pdfplumber\n",
    "\n",
    "def is_scanned_pdf(pdf_path):\n",
    "    \"\"\"Check if the PDF is scanned or structured\"\"\"\n",
    "    with pdfplumber.open(pdf_path) as pdf:\n",
    "        for page in pdf.pages:\n",
    "            text = page.extract_text()\n",
    "            if text and len(text.strip()) > 10:\n",
    "                return False  # Text-based PDF\n",
    "    return True  # Scanned PDF"
   ]
  },
  {
   "cell_type": "markdown",
   "id": "de905173-3bf1-4648-855c-f72c42ceb85e",
   "metadata": {},
   "source": [
    "#### _Testing_"
   ]
  },
  {
   "cell_type": "code",
   "execution_count": 2,
   "id": "35e19a96-93d1-4c5d-982f-694257072230",
   "metadata": {},
   "outputs": [
    {
     "name": "stdout",
     "output_type": "stream",
     "text": [
      "Scanned PDF: False\n"
     ]
    }
   ],
   "source": [
    "pdf_path = \"Sample1.pdf\"\n",
    "print(\"Scanned PDF:\", is_scanned_pdf(pdf_path))"
   ]
  },
  {
   "cell_type": "markdown",
   "id": "4f252a64-c416-426a-945e-92c69c6fd939",
   "metadata": {},
   "source": [
    "#### Extract Text Based on PDF Type"
   ]
  },
  {
   "cell_type": "markdown",
   "id": "b5487ff9-de15-42af-9461-e83b8fe44699",
   "metadata": {},
   "source": [
    "##### For Text-Based PDFs (Structured PDFs)"
   ]
  },
  {
   "cell_type": "code",
   "execution_count": 3,
   "id": "1395ee6b-f2ee-4def-8b74-9108ca9d4aec",
   "metadata": {},
   "outputs": [],
   "source": [
    "def extract_text_from_pdf(pdf_path):\n",
    "    \"\"\"Extract text from structured PDFs using pdfplumber\"\"\"\n",
    "    text_data = []\n",
    "    with pdfplumber.open(pdf_path) as pdf:\n",
    "        for page in pdf.pages:\n",
    "            text_data.append(page.extract_text())\n",
    "    return \"\\n\".join(text_data)"
   ]
  },
  {
   "cell_type": "markdown",
   "id": "c3577f91-ca41-490a-9cf7-1c7950458caa",
   "metadata": {},
   "source": [
    "##### For Scanned PDFs (OCR-Based Extraction)"
   ]
  },
  {
   "cell_type": "code",
   "execution_count": 4,
   "id": "e57852e1-c703-43e4-a334-cd692625e427",
   "metadata": {},
   "outputs": [],
   "source": [
    "import fitz  # PyMuPDF\n",
    "import cv2\n",
    "import numpy as np\n",
    "import pytesseract\n",
    "\n",
    "def extract_text_from_scanned_pdf(pdf_path):\n",
    "    \"\"\"Extract text from scanned PDFs using OCR\"\"\"\n",
    "    text_data = []\n",
    "    doc = fitz.open(pdf_path)\n",
    "\n",
    "    for page_num in range(len(doc)):\n",
    "        img = doc[page_num].get_pixmap()  # Convert to image\n",
    "        img_array = np.frombuffer(img.samples, dtype=np.uint8).reshape(img.height, img.width, 3)\n",
    "        gray = cv2.cvtColor(img_array, cv2.COLOR_BGR2GRAY)  # Convert to grayscale\n",
    "        text = pytesseract.image_to_string(gray)\n",
    "        text_data.append(text)\n",
    "    \n",
    "    return \"\\n\".join(text_data)"
   ]
  },
  {
   "cell_type": "markdown",
   "id": "ea039abb-b564-4482-b461-bfaf85963ce8",
   "metadata": {},
   "source": [
    "#### _Testing_"
   ]
  },
  {
   "cell_type": "code",
   "execution_count": 5,
   "id": "a12b3bc1-60bd-42a0-8c76-2917c82b2b22",
   "metadata": {},
   "outputs": [
    {
     "name": "stdout",
     "output_type": "stream",
     "text": [
      "Bank name\n",
      "COMPANY NAME AND Address 1\n",
      "Address 2\n",
      "LOGO Address 3\n",
      "SWIFT :\n",
      "E-mail :\n",
      "Website :\n",
      "CUSTOMER NAME\n",
      "ADDRESS 1\n",
      "ADDRESS 2\n",
      "ADDRESS 3\n",
      "ADDRESS 4\n",
      "ADDRESS 5\n",
      "Ref: INB 0000-30001- Customer Id : 01111113\n",
      "000000 Account No : 4304567890987\n",
      "Account Type : CURRENT ACCOUNT\n",
      "Currency : BDT\n",
      "Issue Date : January 12, 2019\n",
      "STATEMENT OF ACCOUNT FOR THE PERIOD OF 29-Dec-2018 TO 12-Jan-2019\n",
      "DATE PARTICULARS CHQ.NO WITHDRAW DEPOSIT BALANCE\n",
      "Balance Forward 0.00 0.00 419.08\n",
      "01-Jan-2019 PRCR/easy 100.00 0.00 319.08\n",
      "D/4301201810853001\n",
      "01-Jan-2019 PRCR/easy 100.00 0.00 219.08\n",
      "D/4301201810853001\n",
      "01-Jan-2019 PRCR/easy 100.00 0.00 119.08\n",
      "D/4301201810853001\n",
      "01-Jan-2019 PRCR/easy 100.00 0.00 19.08\n",
      "D/4301201810853001\n",
      "02-Jan-2019 EFT/IC/BANK ASIA/FRD BEFTN 0.00 10,103.66 10,122.74\n",
      "ACCOUN/FR\n",
      "02-Jan-2019 PRCR/easy 100.00 0.00 10,022.74\n",
      "D/4301201810853001\n",
      "02-Jan-2019 PRCR/easy 100.00 0.00 9,922.74\n",
      "D/4301201810853001\n",
      "03-Jan-2019 CWDR/MOKKA-MODINA TOWER CT 9,500.00 0.00 422.74\n",
      "G/4301201810853001\n",
      "07-Jan-2019 EFT/IC/BANK ASIA/FRD BEFTN 0.00 6,490.89 6,913.63\n",
      "ACCOUN/FR\n",
      "07-Jan-2019 CWDR/MOKKA-MODINA TOWER CT 6,000.00 0.00 913.63\n",
      "G/4301201810853001\n",
      "10-Jan-2019 CWDR/MOKKA-MODINA TOWER CT 500.00 0.00 413.63\n",
      "G/4301201810853001\n",
      "16,600.00 16,594.55 413.63\n",
      "Page 1 of 2\n",
      "COMPANY NAME AND LOGO\n",
      "Reward Points For Acc No : 4304567890987\n",
      "Reward Points Earned In Current Month : 0.000\n",
      "Reward Points Redeemed/Expired : 0\n",
      "Reward Points Available : 139\n",
      "**** END OF STATEMENT ****\n",
      "Page 2 of 2\n"
     ]
    }
   ],
   "source": [
    "scanned = is_scanned_pdf(pdf_path)\n",
    "if scanned:\n",
    "    text = extract_text_from_scanned_pdf(pdf_path)\n",
    "else:\n",
    "    text = extract_text_from_pdf(pdf_path)\n",
    "\n",
    "print(text)  # Print first 1000 characters for verification"
   ]
  },
  {
   "cell_type": "markdown",
   "id": "922f15d7-d6c6-48c0-b416-bfb4614d0572",
   "metadata": {},
   "source": [
    "#### Extract Financial Data (Ledger Entries)"
   ]
  },
  {
   "cell_type": "code",
   "execution_count": 6,
   "id": "f2926ecb-8d78-4d2f-b796-b63ff473aeeb",
   "metadata": {},
   "outputs": [],
   "source": [
    "import re\n",
    "\n",
    "def preprocess_text(text):\n",
    "    # Step 1: Remove excessive newlines, keeping structured breaks\n",
    "    text = re.sub(r\"\\n([A-Za-z/]+)\", r\" \\1\", text)  # Merge split lines for transaction descriptions\n",
    "    text = re.sub(r\"(?<=\\d{4})\\n(?=\\d{2})\", \" \", text)  # Fix split dates like \"2019\\n01\"\n",
    "\n",
    "    # Step 2: Ensure proper column spacing\n",
    "    text = re.sub(r\"\\s{2,}\", \" \", text)  # Replace multiple spaces with a single space\n",
    "\n",
    "    return text\n"
   ]
  },
  {
   "cell_type": "code",
   "execution_count": 7,
   "id": "d0285027-4ece-4264-996d-3ee9987cd8a6",
   "metadata": {},
   "outputs": [],
   "source": [
    "def extract_ledger_entries(text):\n",
    "    # Preprocess text first\n",
    "    text = preprocess_text(text)\n",
    "\n",
    "    # Updated regex to match transactions properly\n",
    "    pattern = re.compile(\n",
    "        r'(\\d{1,2}[-/.][A-Za-z]{3}[-/.]\\d{4})'  # Match Date (e.g., 01-Jan-2019, 02/01/2019)\n",
    "        r'\\s+([\\w\\s/&.,-]+?)'                    # Match Description (e.g., PRCR/easy, EFT)\n",
    "        r'\\s*(-?\\d{1,3}(?:,\\d{3})*(?:\\.\\d{2})?)?'  # Match Withdraw (optional)\n",
    "        r'\\s*(-?\\d{1,3}(?:,\\d{3})*(?:\\.\\d{2})?)?'  # Match Deposit (optional)\n",
    "        r'\\s*(-?\\d{1,3}(?:,\\d{3})*(?:\\.\\d{2})?)'   # Match Balance\n",
    "    )\n",
    "\n",
    "    matches = pattern.findall(text)\n",
    "\n",
    "    # Debugging: Print first few matches\n",
    "    print(\"Found matches:\", matches[:5])  \n",
    "\n",
    "    if not matches:\n",
    "        print(\"No matches found! Check text formatting.\")\n",
    "        return []\n",
    "\n",
    "    transactions = []\n",
    "    for match in matches:\n",
    "        date, description, withdraw, deposit, balance = match\n",
    "\n",
    "        transactions.append({\n",
    "            \"Date\": date.strip(),\n",
    "            \"Description\": description.strip(),\n",
    "            \"Withdraw\": float(withdraw.replace(\",\", \"\")) if withdraw else 0.0,\n",
    "            \"Deposit\": float(deposit.replace(\",\", \"\")) if deposit else 0.0,\n",
    "            \"Balance\": float(balance.replace(\",\", \"\")) if balance else 0.0\n",
    "        })\n",
    "\n",
    "    return transactions\n"
   ]
  },
  {
   "cell_type": "markdown",
   "id": "a9f2752d-856b-4137-88e1-ab974f4db0ae",
   "metadata": {},
   "source": [
    "#### _Testing_"
   ]
  },
  {
   "cell_type": "code",
   "execution_count": 8,
   "id": "cff4acb5-214c-4788-a46e-61b67ab03300",
   "metadata": {},
   "outputs": [
    {
     "name": "stdout",
     "output_type": "stream",
     "text": [
      "Found matches: [('29-Dec-2018', 'TO', '1', '', '2'), ('01-Jan-2019', 'PRCR/easy', '100.00', '0.00', '319.08'), ('01-Jan-2019', 'PRCR/easy', '100.00', '0.00', '219.08'), ('01-Jan-2019', 'PRCR/easy', '100.00', '0.00', '119.08'), ('01-Jan-2019', 'PRCR/easy', '100.00', '0.00', '19.08')]\n",
      "Extracted Transactions: [{'Date': '29-Dec-2018', 'Description': 'TO', 'Withdraw': 1.0, 'Deposit': 0.0, 'Balance': 2.0}, {'Date': '01-Jan-2019', 'Description': 'PRCR/easy', 'Withdraw': 100.0, 'Deposit': 0.0, 'Balance': 319.08}, {'Date': '01-Jan-2019', 'Description': 'PRCR/easy', 'Withdraw': 100.0, 'Deposit': 0.0, 'Balance': 219.08}, {'Date': '01-Jan-2019', 'Description': 'PRCR/easy', 'Withdraw': 100.0, 'Deposit': 0.0, 'Balance': 119.08}, {'Date': '01-Jan-2019', 'Description': 'PRCR/easy', 'Withdraw': 100.0, 'Deposit': 0.0, 'Balance': 19.08}]\n"
     ]
    }
   ],
   "source": [
    "transactions = extract_ledger_entries(text)\n",
    "\n",
    "if transactions:\n",
    "    print(\"Extracted Transactions:\", transactions[:5])  # Show first 5 transactions\n",
    "else:\n",
    "    print(\"Still no matches found! Check extracted text formatting.\")"
   ]
  },
  {
   "cell_type": "markdown",
   "id": "5788aa9c-774d-48a2-be31-dfba920dc24c",
   "metadata": {},
   "source": [
    "#### Save Data to CSV/Excel"
   ]
  },
  {
   "cell_type": "code",
   "execution_count": 9,
   "id": "9e178137-2f8c-47da-8c95-13784db0672b",
   "metadata": {},
   "outputs": [],
   "source": [
    "import pandas as pd\n",
    "\n",
    "def save_to_csv(transactions, output_file):\n",
    "    \"\"\"Save extracted data to CSV\"\"\"\n",
    "    df = pd.DataFrame(transactions)\n",
    "    df.to_csv(output_file, index=False)\n",
    "    print(f\"Data saved to {output_file}\")\n",
    "\n",
    "def save_to_excel(transactions, output_file):\n",
    "    \"\"\"Save extracted data to Excel\"\"\"\n",
    "    df = pd.DataFrame(transactions)\n",
    "    df.to_excel(output_file,index=False, engine='xlsxwriter')\n",
    "    print(f\"Data saved to {output_file}\")"
   ]
  },
  {
   "cell_type": "markdown",
   "id": "c4fed796-8124-4efc-8d42-7bccd08965e8",
   "metadata": {},
   "source": [
    "#### Combine Everything in One Function"
   ]
  },
  {
   "cell_type": "code",
   "execution_count": 12,
   "id": "c62597db-519f-4f91-8908-d28a23c6a34f",
   "metadata": {},
   "outputs": [
    {
     "name": "stdout",
     "output_type": "stream",
     "text": [
      "Processing structured PDF...\n",
      "Found matches: [('29-Dec-2018', 'TO', '1', '', '2'), ('01-Jan-2019', 'PRCR/easy', '100.00', '0.00', '319.08'), ('01-Jan-2019', 'PRCR/easy', '100.00', '0.00', '219.08'), ('01-Jan-2019', 'PRCR/easy', '100.00', '0.00', '119.08'), ('01-Jan-2019', 'PRCR/easy', '100.00', '0.00', '19.08')]\n",
      "Data saved to extracted_data.csv\n",
      "Data saved to extracted_data.xlsx\n"
     ]
    }
   ],
   "source": [
    "def process_pdf(pdf_path, output_file):\n",
    "    \"\"\"Main function to process PDF and extract structured financial data\"\"\"\n",
    "    scanned = is_scanned_pdf(pdf_path)\n",
    "\n",
    "    if scanned:\n",
    "        print(\"Processing scanned PDF with OCR...\")\n",
    "        extracted_text = extract_text_from_scanned_pdf(pdf_path)\n",
    "    else:\n",
    "        print(\"Processing structured PDF...\")\n",
    "        extracted_text = extract_text_from_pdf(pdf_path)\n",
    "\n",
    "    transactions = extract_ledger_entries(extracted_text)\n",
    "\n",
    "    if transactions:\n",
    "        save_to_csv(transactions, output_file.replace(\".xlsx\", \".csv\"))\n",
    "        save_to_excel(transactions, output_file)\n",
    "    else:\n",
    "        print(\"No financial data found in the document.\")\n",
    "\n",
    "# Run the complete pipeline\n",
    "pdf_file = \"Sample1.pdf\"  # Change this to your PDF file\n",
    "output_file = \"extracted_data.xlsx\"\n",
    "process_pdf(pdf_file, output_file)"
   ]
  },
  {
   "cell_type": "code",
   "execution_count": null,
   "id": "eee619a6-a37d-41a2-ac2b-38e1860d8cae",
   "metadata": {},
   "outputs": [],
   "source": []
  },
  {
   "cell_type": "code",
   "execution_count": null,
   "id": "e4f484c1-7ad4-4f1a-a150-a61357ffc29d",
   "metadata": {},
   "outputs": [],
   "source": []
  },
  {
   "cell_type": "code",
   "execution_count": null,
   "id": "0bb852fd-9f7d-462e-924b-d08eb180c23f",
   "metadata": {},
   "outputs": [],
   "source": []
  },
  {
   "cell_type": "code",
   "execution_count": null,
   "id": "b628d5c3-3bb3-49ad-8961-d37ed5a70b34",
   "metadata": {},
   "outputs": [],
   "source": []
  },
  {
   "cell_type": "code",
   "execution_count": null,
   "id": "063c92b9-90b3-4d08-82a5-b983dd85e6ad",
   "metadata": {},
   "outputs": [],
   "source": []
  },
  {
   "cell_type": "code",
   "execution_count": null,
   "id": "c033689c-5d0b-4503-92ee-33b2ad754712",
   "metadata": {},
   "outputs": [],
   "source": []
  },
  {
   "cell_type": "code",
   "execution_count": null,
   "id": "f4333bfa-3686-4b8b-99bf-3fe6222ebda4",
   "metadata": {},
   "outputs": [],
   "source": []
  },
  {
   "cell_type": "code",
   "execution_count": null,
   "id": "b39642c7-8edc-4de0-b8eb-73f4dae75b57",
   "metadata": {},
   "outputs": [],
   "source": []
  },
  {
   "cell_type": "code",
   "execution_count": null,
   "id": "32244ca3-7304-4f4c-b569-8eff820f7e28",
   "metadata": {},
   "outputs": [],
   "source": []
  },
  {
   "cell_type": "code",
   "execution_count": 13,
   "id": "8ca1904e-a5e8-4368-ba35-0a7152947528",
   "metadata": {},
   "outputs": [],
   "source": [
    "def extract_format1(text):\n",
    "    pattern = re.compile(\n",
    "        r'(?P<date>\\d{2}/\\d{2}/\\d{4})'    # Date (MM/DD/YYYY)\n",
    "        r'\\s+(?P<desc>[A-Za-z\\s&]+?)'     # Description\n",
    "        r'\\s+(?P<debit>\\d+\\.\\d{2})'       # Debit\n",
    "        r'\\s+(?P<credit>\\d+\\.\\d{2})'      # Credit\n",
    "    )\n",
    "    transactions = [m.groupdict() for m in pattern.finditer(text)]\n",
    "    return transactions"
   ]
  },
  {
   "cell_type": "code",
   "execution_count": 14,
   "id": "5cf9ea93-69f0-402d-9cbb-a1274abab5bb",
   "metadata": {},
   "outputs": [],
   "source": [
    "def extract_format2(text):\n",
    "    pattern = re.compile(\n",
    "        r'(?P<txn_id>[A-Z]{2}\\d{5})'      # Transaction ID (e.g., AB12345)\n",
    "        r'\\s+\\$(?P<amount>\\d+,\\d{3}\\.\\d{2})'  # Amount with $\n",
    "        r'\\s+(?P<date>\\d{4}-\\d{2}-\\d{2})' # ISO date\n",
    "    )\n",
    "    transactions = [m.groupdict() for m in pattern.finditer(text)]\n",
    "    return transactions"
   ]
  },
  {
   "cell_type": "code",
   "execution_count": 15,
   "id": "887756b1-4a7f-4582-b051-f948db2bdd21",
   "metadata": {},
   "outputs": [],
   "source": [
    "def extract_format3(text):\n",
    "    pattern = re.compile(\n",
    "        r'Date:\\s*(?P<date>\\d{2}-[A-Za-z]{3}-\\d{4})\\n'  # Date: 12-Jan-2023\n",
    "        r'Desc:\\s*(?P<desc>.*?)\\n'                      # Description line\n",
    "        r'Amt:\\s*(?P<amount>[\\d,]+\\.\\d{2})'             # Amount line\n",
    "    )\n",
    "    transactions = [m.groupdict() for m in pattern.finditer(text)]\n",
    "    return transactions"
   ]
  },
  {
   "cell_type": "code",
   "execution_count": 16,
   "id": "d557c88a-84ab-4f17-b6a5-8630a26adc4d",
   "metadata": {},
   "outputs": [],
   "source": [
    "def auto_detect_format(text):\n",
    "    # Check for Format 1 markers\n",
    "    if re.search(r'Debit\\s+Credit', text):\n",
    "        return extract_format1\n",
    "    \n",
    "    # Check for Format 2 markers\n",
    "    if re.search(r'TXN ID', text):\n",
    "        return extract_format2\n",
    "    \n",
    "    # Check for Format 3 markers\n",
    "    if re.search(r'Date:\\s*\\d{2}-[A-Za-z]{3}-\\d{4}', text):\n",
    "        return extract_format3\n",
    "    \n",
    "    # Fallback to generic parser\n",
    "    return extract_generic\n",
    "\n",
    "def extract_generic(text):\n",
    "    \"\"\"Catch-all parser with optional fields\"\"\"\n",
    "    pattern = re.compile(\n",
    "        r'(?P<date>\\d{2}[-/]\\d{2}[-/]\\d{4})'  # Date\n",
    "        r'\\s+(?P<desc>.+?)'                   # Description\n",
    "        r'\\s+(?P<amount>-?\\$?\\d{1,3}(?:,\\d{3})*\\.\\d{2})'  # Amount\n",
    "    )\n",
    "    transactions = [m.groupdict() for m in pattern.finditer(text)]\n",
    "    return transactions"
   ]
  },
  {
   "cell_type": "code",
   "execution_count": 17,
   "id": "aa2d6d86-8e15-44bd-ae8b-afc32997be1a",
   "metadata": {},
   "outputs": [
    {
     "data": {
      "text/plain": [
       "[{'date': '01/01/2023', 'desc': 'Payment', 'amount': '$100.00'}]"
      ]
     },
     "execution_count": 17,
     "metadata": {},
     "output_type": "execute_result"
    }
   ],
   "source": [
    "test_text = \"Sample header\\n01/01/2023 Payment $100.00\"\n",
    "extractor = auto_detect_format(test_text)\n",
    "extractor(test_text)"
   ]
  },
  {
   "cell_type": "code",
   "execution_count": 18,
   "id": "77a12747-a008-41a3-bc41-8aee4261cf79",
   "metadata": {},
   "outputs": [
    {
     "data": {
      "text/plain": [
       "[{'date': '01/01/2023',\n",
       "  'desc': 'Vendor Payment',\n",
       "  'debit': '1000.00',\n",
       "  'credit': '0.00'},\n",
       " {'date': '02/01/2023',\n",
       "  'desc': 'Client Payment',\n",
       "  'debit': '0.00',\n",
       "  'credit': '2500.00'}]"
      ]
     },
     "execution_count": 18,
     "metadata": {},
     "output_type": "execute_result"
    }
   ],
   "source": [
    "test_text1 = \"\"\"Debit Credit\n",
    "01/01/2023 Vendor Payment 1000.00 0.00\n",
    "02/01/2023 Client Payment 0.00 2500.00\"\"\"\n",
    "auto_detect_format(test_text1)(test_text1)"
   ]
  },
  {
   "cell_type": "code",
   "execution_count": 19,
   "id": "758973b2-190a-4706-b94f-a9cd91def83e",
   "metadata": {},
   "outputs": [
    {
     "data": {
      "text/plain": [
       "[{'txn_id': 'AB12345', 'amount': '1,234.56', 'date': '2023-01-01'},\n",
       " {'txn_id': 'CD67890', 'amount': '5,678.90', 'date': '2023-01-02'}]"
      ]
     },
     "execution_count": 19,
     "metadata": {},
     "output_type": "execute_result"
    }
   ],
   "source": [
    "test_text2 = \"\"\"TXN ID Amount Date\n",
    "AB12345 $1,234.56 2023-01-01\n",
    "CD67890 $5,678.90 2023-01-02\"\"\"\n",
    "auto_detect_format(test_text2)(test_text2)"
   ]
  },
  {
   "cell_type": "code",
   "execution_count": null,
   "id": "781654a4-b44e-470f-98a8-482a3c68d22f",
   "metadata": {},
   "outputs": [],
   "source": []
  },
  {
   "cell_type": "code",
   "execution_count": null,
   "id": "bc227f3a-982c-4962-9247-5469e7b8918d",
   "metadata": {},
   "outputs": [],
   "source": []
  },
  {
   "cell_type": "code",
   "execution_count": null,
   "id": "fac707ab-6d29-4505-8338-a97bf7d96c01",
   "metadata": {},
   "outputs": [],
   "source": []
  }
 ],
 "metadata": {
  "kernelspec": {
   "display_name": "Python 3 (ipykernel)",
   "language": "python",
   "name": "python3"
  },
  "language_info": {
   "codemirror_mode": {
    "name": "ipython",
    "version": 3
   },
   "file_extension": ".py",
   "mimetype": "text/x-python",
   "name": "python",
   "nbconvert_exporter": "python",
   "pygments_lexer": "ipython3",
   "version": "3.10.11"
  }
 },
 "nbformat": 4,
 "nbformat_minor": 5
}
